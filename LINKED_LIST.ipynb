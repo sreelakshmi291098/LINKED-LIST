{
  "nbformat": 4,
  "nbformat_minor": 0,
  "metadata": {
    "colab": {
      "name": "LINKED LIST.ipynb",
      "provenance": [],
      "collapsed_sections": []
    },
    "kernelspec": {
      "name": "python3",
      "display_name": "Python 3"
    },
    "language_info": {
      "name": "python"
    }
  },
  "cells": [
    {
      "cell_type": "code",
      "execution_count": null,
      "metadata": {
        "id": "2LK-dfK4tM8D"
      },
      "outputs": [],
      "source": [
        "class Node:\n",
        "     def __init__(self, data):\n",
        "        self.data = data  \n",
        "        self.next = None  \n",
        "                          \n",
        "class LinkedList:\n",
        "     def __init__(self): \n",
        "        self.head = None"
      ]
    },
    {
      "cell_type": "code",
      "source": [
        ""
      ],
      "metadata": {
        "id": "rzSwQB02_Bx0"
      },
      "execution_count": null,
      "outputs": []
    },
    {
      "cell_type": "code",
      "source": [
        "class Node:\n",
        "  def __init__(self, data):\n",
        "        self.data = data\n",
        "        self.next = None\n",
        "class LinkedList:\n",
        "  def __init__(self):\n",
        "        self.head = None\n",
        "  def reverse(self):\n",
        "        prev = None\n",
        "        current = self.head\n",
        "        while(current is not None):\n",
        "            next = current.next\n",
        "            current.next = prev\n",
        "            prev = current\n",
        "            current = next\n",
        "            self.head = prev\n",
        "  def push(self, new_data):\n",
        "        new_node = Node(new_data)\n",
        "        new_node.next = self.head\n",
        "        self.head = new_node\n",
        "  def printList(self):\n",
        "        temp = self.head\n",
        "        while(temp):\n",
        "            print (temp.data,end=\" \")\n",
        "            temp = temp.next\n",
        "llist = LinkedList()\n",
        "llist.push(20)\n",
        "llist.push(4)\n",
        "llist.push(15)\n",
        "llist.push(85)\n",
        "print (\"Given Linked List\")\n",
        "llist.printList()\n",
        "llist.reverse()\n",
        "print (\"\\nReversed Linked List\")\n",
        "llist.printList()"
      ],
      "metadata": {
        "colab": {
          "base_uri": "https://localhost:8080/"
        },
        "id": "ZxTcPbUGA_ts",
        "outputId": "b81c4feb-fbb8-4b30-d29d-50c7033b2cdd"
      },
      "execution_count": null,
      "outputs": [
        {
          "output_type": "stream",
          "name": "stdout",
          "text": [
            "Given Linked List\n",
            "85 15 4 20 \n",
            "Reversed Linked List\n",
            "20 4 15 85 "
          ]
        }
      ]
    },
    {
      "cell_type": "code",
      "source": [
        "class Node:\n",
        "  def __init__(self, data):\n",
        "        self.data = data  \n",
        "        self.next = None\n",
        "class LinkedList:\n",
        "  def __init__(self):\n",
        "        self.head = None\n",
        "  def printList(self):\n",
        "        temp = self.head\n",
        "        while (temp):\n",
        "            print (temp.data)\n",
        "            temp = temp.next\n",
        "if __name__==\"__main__\":\n",
        "  llist = LinkedList()\n",
        "  \n",
        "  llist.head = Node(1)\n",
        "  second = Node(2)\n",
        "  third = Node(3)\n",
        "  \n",
        "  llist.head.next = second; \n",
        "  second.next = third;\n",
        "  llist.printList()"
      ],
      "metadata": {
        "colab": {
          "base_uri": "https://localhost:8080/"
        },
        "id": "wVyj2gPeB4V6",
        "outputId": "c549d906-232a-4816-8c91-faac967564e5"
      },
      "execution_count": null,
      "outputs": [
        {
          "output_type": "stream",
          "name": "stdout",
          "text": [
            "1\n",
            "2\n",
            "3\n"
          ]
        }
      ]
    }
  ]
}